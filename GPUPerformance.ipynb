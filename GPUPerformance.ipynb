{
 "cells": [
  {
   "cell_type": "markdown",
   "metadata": {},
   "source": [
    "# Calculating GPU energy efficiency\n",
    "\n",
    "Cloud providers do not disclose the energy efficiency associated with their GPUs. There exist profiling tools to measure GPU power. However, resource sharing, benchmarking inconsistencies and cloud provider limitations makes it very hard to measure the energy efficiency of the GPUs you use. Besides that system-Level efficiency data is important and imposible to obtain.\n",
    "\n",
    "Considering these key technical and operational challenges we will discuss GPU energy efficiency in a idealized scenario as well ad their performance in Green500 benchmarks."
   ]
  },
  {
   "cell_type": "markdown",
   "metadata": {},
   "source": [
    "## Idealized"
   ]
  },
  {
   "cell_type": "markdown",
   "metadata": {},
   "source": [
    "### References"
   ]
  },
  {
   "cell_type": "markdown",
   "metadata": {},
   "source": [
    "## Green500 Benchmark\n",
    "\n",
    "Traditional supercomputers on the Green500 are tested in a controlled environment, measuring wall power for the entire system while running LINPACK. In a public cloud, you typically rent slices of a massive data center, and direct power measurement is rarely exposed to users.\n",
    "\n",
    "Using Green500 data as a direct proxy for GPU efficiency in the cloud can be misleading because Green500 measures system-level performance (CPUs + GPUs + memory + interconnect + specialized cooling, etc.) in highly optimized on-prem HPC clusters.\n",
    "\n",
    "Green500 rankings reflect the entire supercomputer’s performance on LINPACK divided by the total power consumption of the system. This includes CPU power, memory, cooling overhead, and interconnect—not just the GPU."
   ]
  },
  {
   "cell_type": "code",
   "execution_count": 6,
   "metadata": {},
   "outputs": [
    {
     "data": {
      "text/html": [
       "<div>\n",
       "<style scoped>\n",
       "    .dataframe tbody tr th:only-of-type {\n",
       "        vertical-align: middle;\n",
       "    }\n",
       "\n",
       "    .dataframe tbody tr th {\n",
       "        vertical-align: top;\n",
       "    }\n",
       "\n",
       "    .dataframe thead th {\n",
       "        text-align: right;\n",
       "    }\n",
       "</style>\n",
       "<table border=\"1\" class=\"dataframe\">\n",
       "  <thead>\n",
       "    <tr style=\"text-align: right;\">\n",
       "      <th></th>\n",
       "      <th>Accelerator/Co-Processor</th>\n",
       "      <th>Energy Efficiency [GFlops/Watts]</th>\n",
       "    </tr>\n",
       "  </thead>\n",
       "  <tbody>\n",
       "    <tr>\n",
       "      <th>0</th>\n",
       "      <td>NVIDIA GH200 Superchip</td>\n",
       "      <td>72.732502</td>\n",
       "    </tr>\n",
       "    <tr>\n",
       "      <th>1</th>\n",
       "      <td>NVIDIA GH200 Superchip</td>\n",
       "      <td>70.912003</td>\n",
       "    </tr>\n",
       "  </tbody>\n",
       "</table>\n",
       "</div>"
      ],
      "text/plain": [
       "  Accelerator/Co-Processor  Energy Efficiency [GFlops/Watts]\n",
       "0   NVIDIA GH200 Superchip                         72.732502\n",
       "1   NVIDIA GH200 Superchip                         70.912003"
      ]
     },
     "execution_count": 6,
     "metadata": {},
     "output_type": "execute_result"
    }
   ],
   "source": [
    "import pandas as pd\n",
    "df = pd.read_excel(\"green500_top_202411.xlsx\", engine=\"openpyxl\")\n",
    "df = df[[\"Accelerator/Co-Processor\", \"Energy Efficiency [GFlops/Watts]\"]]\n",
    "df.head(2)"
   ]
  },
  {
   "cell_type": "code",
   "execution_count": null,
   "metadata": {},
   "outputs": [
    {
     "data": {
      "text/html": [
       "<div>\n",
       "<style scoped>\n",
       "    .dataframe tbody tr th:only-of-type {\n",
       "        vertical-align: middle;\n",
       "    }\n",
       "\n",
       "    .dataframe tbody tr th {\n",
       "        vertical-align: top;\n",
       "    }\n",
       "\n",
       "    .dataframe thead th {\n",
       "        text-align: right;\n",
       "    }\n",
       "</style>\n",
       "<table border=\"1\" class=\"dataframe\">\n",
       "  <thead>\n",
       "    <tr style=\"text-align: right;\">\n",
       "      <th></th>\n",
       "      <th>GPU</th>\n",
       "      <th>Energy Efficiency</th>\n",
       "    </tr>\n",
       "  </thead>\n",
       "  <tbody>\n",
       "    <tr>\n",
       "      <th>3</th>\n",
       "      <td>NVIDIA H100 64GB</td>\n",
       "      <td>48.32</td>\n",
       "    </tr>\n",
       "    <tr>\n",
       "      <th>0</th>\n",
       "      <td>NVIDIA H100</td>\n",
       "      <td>47.94</td>\n",
       "    </tr>\n",
       "    <tr>\n",
       "      <th>4</th>\n",
       "      <td>NVIDIA H100 80GB</td>\n",
       "      <td>44.93</td>\n",
       "    </tr>\n",
       "    <tr>\n",
       "      <th>1</th>\n",
       "      <td>NVIDIA Tesla A100 40G</td>\n",
       "      <td>24.19</td>\n",
       "    </tr>\n",
       "    <tr>\n",
       "      <th>6</th>\n",
       "      <td>NVIDIA A100</td>\n",
       "      <td>21.48</td>\n",
       "    </tr>\n",
       "    <tr>\n",
       "      <th>5</th>\n",
       "      <td>NVIDIA Tesla V100</td>\n",
       "      <td>9.52</td>\n",
       "    </tr>\n",
       "    <tr>\n",
       "      <th>2</th>\n",
       "      <td>NVIDIA Tesla P100</td>\n",
       "      <td>8.31</td>\n",
       "    </tr>\n",
       "  </tbody>\n",
       "</table>\n",
       "</div>"
      ],
      "text/plain": [
       "                     GPU  Energy Efficiency\n",
       "3       NVIDIA H100 64GB              48.32\n",
       "0            NVIDIA H100              47.94\n",
       "4       NVIDIA H100 80GB              44.93\n",
       "1  NVIDIA Tesla A100 40G              24.19\n",
       "6            NVIDIA A100              21.48\n",
       "5      NVIDIA Tesla V100               9.52\n",
       "2      NVIDIA Tesla P100               8.31"
      ]
     },
     "execution_count": 12,
     "metadata": {},
     "output_type": "execute_result"
    }
   ],
   "source": [
    "green500 = pd.DataFrame(columns=[\"GPU\", \"Energy Efficiency\"])\n",
    "\n",
    "gpu_list = [\"NVIDIA Tesla V100\", \"NVIDIA Tesla P100\", \"NVIDIA H100\",\n",
    "            \"NVIDIA H100 64GB\", \"NVIDIA H100 80GB\", \"NVIDIA Tesla A100 40G\",\n",
    "            \"NVIDIA A100\", \"NVIDIA Tesla V100\", \"NVIDIA Tesla P100\"]\n",
    "\n",
    "efficiency_data = []\n",
    "for gpu in set(gpu_list):\n",
    "    mean_efficiency = round(df[df[\"Accelerator/Co-Processor\"] == gpu][\"Energy Efficiency [GFlops/Watts]\"].dropna().mean(), 2)\n",
    "    efficiency_data.append({\"GPU\": gpu, \"Energy Efficiency\": mean_efficiency})\n",
    "\n",
    "green500 = pd.DataFrame(efficiency_data).dropna().sort_values(by=\"Energy Efficiency\", ascending=False)\n",
    "green500\n"
   ]
  },
  {
   "cell_type": "markdown",
   "metadata": {},
   "source": [
    "### References"
   ]
  }
 ],
 "metadata": {
  "kernelspec": {
   "display_name": "gpu-comparison-tool",
   "language": "python",
   "name": "python3"
  },
  "language_info": {
   "codemirror_mode": {
    "name": "ipython",
    "version": 3
   },
   "file_extension": ".py",
   "mimetype": "text/x-python",
   "name": "python",
   "nbconvert_exporter": "python",
   "pygments_lexer": "ipython3",
   "version": "3.9.21"
  }
 },
 "nbformat": 4,
 "nbformat_minor": 2
}
