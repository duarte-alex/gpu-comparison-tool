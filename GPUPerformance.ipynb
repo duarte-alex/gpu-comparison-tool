{
 "cells": [
  {
   "cell_type": "markdown",
   "metadata": {},
   "source": [
    "# Calculating GPU energy efficiency\n",
    "\n",
    "Cloud providers do not disclose the energy efficiency associated with their GPUs. Measuring their\n",
    "\n",
    "System-Level Efficiency data is much harder to obtain because of shared resources and multi-tenant overhead, which is generally not exposed to end users.\n",
    "\n",
    "Measuring GPU Power in the cloud is relatively straightforward with nvidia-smi, DCGM, or profiling tools. You can get near-real-time GPU wattage data for your instance.\n",
    "\n",
    "Resource sharing, benchmarking inconsistencies, and cloud provider limitations. Below are the key technical and operational challenges:"
   ]
  },
  {
   "cell_type": "markdown",
   "metadata": {},
   "source": [
    "## Idealized"
   ]
  },
  {
   "cell_type": "markdown",
   "metadata": {},
   "source": [
    "### References"
   ]
  },
  {
   "cell_type": "markdown",
   "metadata": {},
   "source": [
    "## Green500 Benchmark"
   ]
  },
  {
   "cell_type": "markdown",
   "metadata": {},
   "source": [
    "Traditional supercomputers on the Green500 are tested in a controlled environment, measuring wall power for the entire system while running LINPACK. In a public cloud, you typically rent slices of a massive data center, and direct power measurement is rarely exposed to users.\n",
    "\n",
    "Using Green500 data as a direct proxy for GPU efficiency in the cloud can be misleading because Green500 measures system-level performance (CPUs + GPUs + memory + interconnect + specialized cooling, etc.) in highly optimized on-prem HPC clusters.\n",
    "\n",
    "Green500 rankings reflect the entire supercomputer’s performance on LINPACK divided by the total power consumption of the system. This includes CPU power, memory, cooling overhead, and interconnect—not just the GPU."
   ]
  },
  {
   "cell_type": "code",
   "execution_count": null,
   "metadata": {},
   "outputs": [
    {
     "data": {
      "text/html": [
       "<div>\n",
       "<style scoped>\n",
       "    .dataframe tbody tr th:only-of-type {\n",
       "        vertical-align: middle;\n",
       "    }\n",
       "\n",
       "    .dataframe tbody tr th {\n",
       "        vertical-align: top;\n",
       "    }\n",
       "\n",
       "    .dataframe thead th {\n",
       "        text-align: right;\n",
       "    }\n",
       "</style>\n",
       "<table border=\"1\" class=\"dataframe\">\n",
       "  <thead>\n",
       "    <tr style=\"text-align: right;\">\n",
       "      <th></th>\n",
       "      <th>Accelerator/Co-Processor</th>\n",
       "      <th>Energy Efficiency [GFlops/Watts]</th>\n",
       "    </tr>\n",
       "  </thead>\n",
       "  <tbody>\n",
       "    <tr>\n",
       "      <th>0</th>\n",
       "      <td>NVIDIA GH200 Superchip</td>\n",
       "      <td>72.732502</td>\n",
       "    </tr>\n",
       "    <tr>\n",
       "      <th>1</th>\n",
       "      <td>NVIDIA GH200 Superchip</td>\n",
       "      <td>70.912003</td>\n",
       "    </tr>\n",
       "    <tr>\n",
       "      <th>2</th>\n",
       "      <td>AMD Instinct MI300A</td>\n",
       "      <td>69.098361</td>\n",
       "    </tr>\n",
       "    <tr>\n",
       "      <th>3</th>\n",
       "      <td>NVIDIA GH200 Superchip</td>\n",
       "      <td>68.834951</td>\n",
       "    </tr>\n",
       "    <tr>\n",
       "      <th>4</th>\n",
       "      <td>Nvidia H100 SXM5 94Gb</td>\n",
       "      <td>68.052996</td>\n",
       "    </tr>\n",
       "    <tr>\n",
       "      <th>5</th>\n",
       "      <td>NVIDIA GH200 Superchip</td>\n",
       "      <td>67.962585</td>\n",
       "    </tr>\n",
       "    <tr>\n",
       "      <th>6</th>\n",
       "      <td>NVIDIA GH200 Superchip</td>\n",
       "      <td>66.947878</td>\n",
       "    </tr>\n",
       "  </tbody>\n",
       "</table>\n",
       "</div>"
      ],
      "text/plain": [
       "  Accelerator/Co-Processor  Energy Efficiency [GFlops/Watts]\n",
       "0   NVIDIA GH200 Superchip                         72.732502\n",
       "1   NVIDIA GH200 Superchip                         70.912003\n",
       "2      AMD Instinct MI300A                         69.098361\n",
       "3   NVIDIA GH200 Superchip                         68.834951\n",
       "4    Nvidia H100 SXM5 94Gb                         68.052996\n",
       "5   NVIDIA GH200 Superchip                         67.962585\n",
       "6   NVIDIA GH200 Superchip                         66.947878"
      ]
     },
     "execution_count": 36,
     "metadata": {},
     "output_type": "execute_result"
    }
   ],
   "source": [
    "import pandas as pd\n",
    "df = pd.read_excel(\"green500_top_202411.xlsx\", engine=\"openpyxl\")\n",
    "df = df[[\"Accelerator/Co-Processor\", \"Energy Efficiency [GFlops/Watts]\"]]\n",
    "df.head(7)"
   ]
  },
  {
   "cell_type": "code",
   "execution_count": 41,
   "metadata": {},
   "outputs": [
    {
     "data": {
      "text/plain": [
       "{'NVIDIA Tesla V100': np.float64(9.52),\n",
       " 'NVIDIA Tesla P100': np.float64(8.31),\n",
       " 'NVIDIA H100': np.float64(47.94),\n",
       " 'NVIDIA H100 64GB': np.float64(48.32),\n",
       " 'NVIDIA H100 80GB': np.float64(44.93),\n",
       " 'NVIDIA Tesla A100 40G': np.float64(24.19),\n",
       " 'A100': nan}"
      ]
     },
     "execution_count": 41,
     "metadata": {},
     "output_type": "execute_result"
    }
   ],
   "source": [
    "green500 = {}\n",
    "gpu_list = [\"NVIDIA Tesla V100\", \"NVIDIA Tesla P100\", \"NVIDIA H100\",\n",
    "            \"NVIDIA H100 64GB\", \"NVIDIA H100 80GB\", \"NVIDIA Tesla A100 40G\",\n",
    "            \"A100\", \"NVIDIA Tesla V100\", \"NVIDIA Tesla P100\"]\n",
    "\n",
    "for gpu in gpu_list:\n",
    "    green500[gpu] = round(df[df[\"Accelerator/Co-Processor\"] == gpu][\"Energy Efficiency [GFlops/Watts]\"].dropna().mean(), 2)\n",
    "\n",
    "green500"
   ]
  },
  {
   "cell_type": "markdown",
   "metadata": {},
   "source": [
    "### References"
   ]
  }
 ],
 "metadata": {
  "kernelspec": {
   "display_name": "gpu-comparison-tool",
   "language": "python",
   "name": "python3"
  },
  "language_info": {
   "codemirror_mode": {
    "name": "ipython",
    "version": 3
   },
   "file_extension": ".py",
   "mimetype": "text/x-python",
   "name": "python",
   "nbconvert_exporter": "python",
   "pygments_lexer": "ipython3",
   "version": "3.9.21"
  }
 },
 "nbformat": 4,
 "nbformat_minor": 2
}
